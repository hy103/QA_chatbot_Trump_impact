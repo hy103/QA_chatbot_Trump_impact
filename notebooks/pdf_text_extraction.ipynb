{
 "cells": [
  {
   "cell_type": "code",
   "execution_count": 25,
   "metadata": {},
   "outputs": [
    {
     "name": "stdout",
     "output_type": "stream",
     "text": [
      "Extracted text saved to /Users/harshayarravarapu/Documents/GitHub/QA_chatbot_Trump_impact/Data/PC_US_Elections_clean.pdf\n"
     ]
    }
   ],
   "source": [
    "import fitz  # PyMuPDF\n",
    "from fpdf import FPDF  # Install using: pip install fpdf\n",
    "\n",
    "# Path to the input PDF\n",
    "fpath = \"/Users/harshayarravarapu/Documents/GitHub/QA_chatbot_Trump_impact/Data/PC_-_US_Elections_-_Oct_2024_20241024132305.pdf\"\n",
    "\n",
    "# Extract text from the PDF\n",
    "with fitz.open(fpath) as doc:\n",
    "    text = \"\"\n",
    "    for page in doc:\n",
    "        text += page.get_text()\n",
    "\n",
    "text = text.encode(\"latin-1\", \"replace\").decode(\"latin-1\")\n",
    "# Save the extracted text to a new PDF\n",
    "output_path = \"/Users/harshayarravarapu/Documents/GitHub/QA_chatbot_Trump_impact/Data/PC_US_Elections_clean.pdf\"\n",
    "pdf = FPDF()\n",
    "pdf.set_auto_page_break(auto=True, margin=15)\n",
    "pdf.add_page()\n",
    "pdf.set_font(\"Arial\", size=12)\n",
    "\n",
    "# Split text into lines and add them to the PDF\n",
    "lines = text.split(\"\\n\")\n",
    "for line in lines:\n",
    "    pdf.cell(0, 10, line, ln=True)\n",
    "\n",
    "# Output the PDF\n",
    "pdf.output(output_path)\n",
    "print(f\"Extracted text saved to {output_path}\")\n"
   ]
  },
  {
   "cell_type": "code",
   "execution_count": 22,
   "metadata": {},
   "outputs": [
    {
     "name": "stderr",
     "output_type": "stream",
     "text": [
      "python(79845) MallocStackLogging: can't turn off malloc stack logging because it was not enabled.\n"
     ]
    },
    {
     "name": "stdout",
     "output_type": "stream",
     "text": [
      "Collecting fpdf\n",
      "  Downloading fpdf-1.7.2.tar.gz (39 kB)\n",
      "  Preparing metadata (setup.py) ... \u001b[?25ldone\n",
      "\u001b[?25hBuilding wheels for collected packages: fpdf\n",
      "  Building wheel for fpdf (setup.py) ... \u001b[?25ldone\n",
      "\u001b[?25h  Created wheel for fpdf: filename=fpdf-1.7.2-py2.py3-none-any.whl size=40704 sha256=e1dedc1c9a57982db01cdbfc57b460eae9a260e5885e584e6263f481a56b36fb\n",
      "  Stored in directory: /Users/harshayarravarapu/Library/Caches/pip/wheels/65/4f/66/bbda9866da446a72e206d6484cd97381cbc7859a7068541c36\n",
      "Successfully built fpdf\n",
      "Installing collected packages: fpdf\n",
      "Successfully installed fpdf-1.7.2\n"
     ]
    }
   ],
   "source": [
    "!pip install fpdf"
   ]
  },
  {
   "cell_type": "code",
   "execution_count": null,
   "metadata": {},
   "outputs": [],
   "source": []
  }
 ],
 "metadata": {
  "kernelspec": {
   "display_name": "cleaner",
   "language": "python",
   "name": "python3"
  },
  "language_info": {
   "codemirror_mode": {
    "name": "ipython",
    "version": 3
   },
   "file_extension": ".py",
   "mimetype": "text/x-python",
   "name": "python",
   "nbconvert_exporter": "python",
   "pygments_lexer": "ipython3",
   "version": "3.11.5"
  },
  "orig_nbformat": 4
 },
 "nbformat": 4,
 "nbformat_minor": 2
}
